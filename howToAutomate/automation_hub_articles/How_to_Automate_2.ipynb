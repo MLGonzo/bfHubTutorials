{
 "cells": [
  {
   "cell_type": "markdown",
   "metadata": {},
   "source": [
    "# How to Automate II: Backing or laying the 1st/2nd/.../nth favourite shot"
   ]
  },
  {
   "cell_type": "markdown",
   "metadata": {},
   "source": [
    "---"
   ]
  },
  {
   "cell_type": "markdown",
   "metadata": {},
   "source": [
    "This tutorial is Part two of the How to Automate series and follows on logically from the [How to Automate I: Understanding Flumine](../How_to_Automate_1) tutorial we shared previously. \n",
    "\n",
    "Make sure you look at part one, before diving into this one, as it will help you understand the general Flumine code structure and how it works. This tutorial will delve a bit deeper and give us more confidence working with Flumine. Not only will we get a cool new strategy, but we will be moving closer to learning how to automate our own model.\n",
    "\n",
    "As always please reach out with feedback, suggestions or queries. Please submit a pull request if you catch any bugs or have other improvement suggestions!"
   ]
  },
  {
   "cell_type": "markdown",
   "metadata": {},
   "source": [
    "---"
   ]
  },
  {
   "cell_type": "markdown",
   "metadata": {},
   "source": [
    "## Context"
   ]
  },
  {
   "cell_type": "markdown",
   "metadata": {},
   "source": [
    "Say for example you have done some research and found there is significant published academic literature on the existence of a favourite-longshot bias. As a result, you want to automate a strategy backing all favourites or second favourites in thoroughbred racing markets. If this is the case, then this is the perfect tutorial for you! \n",
    "\n",
    "Taking a quick look on Google Scholar we can see there is indeed plenty of published papers on this topic (almost as if I planned it). Many of these Journals are high quality too! According to [the ABDC Journal Rankings](https://abdc.edu.au/research/abdc-journal-quality-list/): \n",
    "\n",
    "- Scottish Journal of Political Economy has rating of A \n",
    "- The Economic Journal is A*\n",
    "- Applied Economics is A*"
   ]
  },
  {
   "cell_type": "markdown",
   "metadata": {},
   "source": [
    "![fav_longshot](hta_img/fav_longshot.PNG)"
   ]
  },
  {
   "cell_type": "markdown",
   "metadata": {},
   "source": [
    "However at this point I must stress to the reader that these papers are quite old and were mainly published in the early 2000s. [Schwert (2003)](https://www.sciencedirect.com/science/article/abs/pii/S1574010203010240) suggests that many of the market anomalies, discovered in financial markets as a contradiction to market efficiency, disappear once they have been published in academic literature. So, although these researchers may have found the existence of a favourite-longshot bias in betting markets in the early 2000s, they likely no longer exist as the publication of their findings leads to an increase in market efficiency.\n",
    "\n",
    "Schwert, G.W., 2003. Anomalies and market efficiency. Handbook of the Economics of Finance, 1, pp.939-974."
   ]
  },
  {
   "cell_type": "markdown",
   "metadata": {},
   "source": [
    "---"
   ]
  },
  {
   "cell_type": "markdown",
   "metadata": {},
   "source": [
    "## Login"
   ]
  },
  {
   "cell_type": "markdown",
   "metadata": {},
   "source": [
    "This is basically always the same"
   ]
  },
  {
   "cell_type": "code",
   "execution_count": 1,
   "metadata": {},
   "outputs": [],
   "source": [
    "# Import libraries for logging in\n",
    "import betfairlightweight\n",
    "from flumine import Flumine, clients\n",
    "\n",
    "# Credentials to login and logging in \n",
    "trading = betfairlightweight.APIClient('username','password',app_key='appkey')\n",
    "client = clients.BetfairClient(trading, interactive_login=True)\n",
    "\n",
    "# Login\n",
    "framework = Flumine(client=client)\n",
    "\n",
    "# Code to login when using security certificates\n",
    "# trading = betfairlightweight.APIClient('username','password',app_key='appkey', certs=r'C:\\Users\\zhoui\\openssl_certs')\n",
    "# client = clients.BetfairClient(trading)\n",
    "\n",
    "# framework = Flumine(client=client)"
   ]
  },
  {
   "cell_type": "markdown",
   "metadata": {},
   "source": [
    "---"
   ]
  },
  {
   "cell_type": "markdown",
   "metadata": {},
   "source": [
    "## Creating our strategy"
   ]
  },
  {
   "cell_type": "markdown",
   "metadata": {},
   "source": [
    "### Formulating our strategy"
   ]
  },
  {
   "cell_type": "markdown",
   "metadata": {},
   "source": [
    "This is where the fun begins!\n",
    "\n",
    "If you haven't already, read through [How to Automate I: Understanding Flumine](../How_to_Automate_1) to get a grasp on what the general code structure of Flumine looks like. The basic code structure will always be the same, but we will tailor it to whatever strategy we are trying to run.\n",
    "\n",
    "We have a few basic requirements for this strategy:\n",
    "\n",
    "- We want to find what horse is the favourite / second favourite / third favourite and so on\n",
    "- We want to place a bet on that horse\n",
    "- We want to only place a single bet on that horse and on the market in general"
   ]
  },
  {
   "cell_type": "markdown",
   "metadata": {},
   "source": [
    "Hold up, how do we decide which horse is the favourite? \n",
    "\n",
    "There are two things we must consider here:\n",
    "\n",
    "1. What price should we be using to determine if a horse is the favourite?\n",
    "    - Back price\n",
    "    - Lay price\n",
    "    - Some sort of mid point\n",
    "    - Last traded price\n",
    "    - Some combination??\n",
    "1. What point in time should we reference the price to determine the favourite?\n",
    "    - 10 mins before the jump\n",
    "    - 5 mins before the jump\n",
    "    - 30 secs before the jump??\n",
    "\n",
    "These decisions can make huge differences, and it's up to you to do your own analysis and decided which is best.\n",
    "\n",
    "For this example, we will keep it simple and place a Back bet on the favourite, and use the last traded price, 60 seconds before the scheduled jump time"
   ]
  },
  {
   "cell_type": "markdown",
   "metadata": {},
   "source": [
    "### Implementing our strategy"
   ]
  },
  {
   "cell_type": "markdown",
   "metadata": {},
   "source": [
    "<!-- To do this let's create a new class called BackFavStrategy which is a child class of BaseStrategy, in it we will need methods that:\n",
    "- define what the strategy needs to do at the start \n",
    "    - print what strategy we are running\n",
    "- define what the strategy needs to do when it first looks at a market \n",
    "    - check if the market is opened or closed\n",
    "- define what the strategy needs to do when the market updates\n",
    "    - Collect the last traded price for each horse/greyhound and put it into a DataFrame\n",
    "    - Collect info on if we have attempted to or successfully placed bets on any selection and put it in a DataFrame\n",
    "    - Rank the last traded price and return the selection_id of the Rank 1 (favourite) horse\n",
    "\n",
    "    - Check how far out from the jump we are\n",
    "    - If we are at one minute from the jump and haven't placed any bets on this market yet:\n",
    "        - Place a $5 Back bet on the favourite -->\n"
   ]
  },
  {
   "cell_type": "markdown",
   "metadata": {},
   "source": [
    "Now that we have decided on using the last traded price for each horse, we actually need a way to find this in real time. Luckily, the [Betfair documentation](https://docs.developer.betfair.com/display/1smk3cen4v3lu3yomq5qye0ni/Betting+Type+Definitions#BettingTypeDefinitions-Runner) provides everything we need.\n",
    "\n",
    "In `Betfairlightweight` and `Flumine` wrapper for the Betfair API, `runner` has the attribute `last_price_traded`, so to access it we can simply call `runner.last_price_traded`. Looping through all the runners in a race we can collect the `last_price_traded` for all runners and then convert that into a dataframe:\n",
    "\n",
    "```\n",
    "snapshot_last_price_traded = []\n",
    "for runner in market_book.runners:\n",
    "        snapshot_last_price_traded.append([runner.selection_id,runner.last_price_traded])\n",
    "        \n",
    "snapshot_last_price_traded = pd.DataFrame(snapshot_last_price_traded, columns=['selection_id','last_traded_price'])\n",
    "```\n",
    "\n",
    "So, we end up with a DataFrame like this: \n",
    "\n",
    "![snapshot_last_price_traded](hta_img/snapshot_last_price_traded.PNG)\n",
    "\n",
    "Let's sort the rows by the `last_traded_price` and define a new variable called the `fav_selection_id` which is the `selection_id` of the horse we want to bet on (first favourite horse). \n",
    "\n",
    "To get the corresponding `selection_id` we need to select the value from the first row of the `selection_id` column. As Python starts indexing rows from 0, instead of 1, we will be selecting the 0th index to get the value of the first row. (If your strategy was backing/laying the second favourite you will need to be selecting the 1st index)\n",
    "\n",
    "```\n",
    "snapshot_last_price_traded = snapshot_last_price_traded.sort_values(by = ['last_traded_price'])\n",
    "fav_selection_id = snapshot_last_price_traded['selection_id'].iloc[0]\n",
    "```\n",
    "\n",
    "![snapshot_last_price_traded_sorted](hta_img/snapshot_last_price_traded_sorted.PNG)\n",
    "\n",
    "\n",
    "We also need a way to validate bets so that we don't bet on multiple selections. This is because process_market_book will run every time anyone places or cancels a bet on that market. So we need to prevent multiple bet placements. This is usually easily done by setting `max_trade_count = 1` however, looking at the [documentation](https://github.com/liampauling/flumine/blob/0f12a0f9d200b4a4c36c8bd26c9f4fbe82f8cce1/flumine/strategy/strategy.py#L70) we can see that this is only on a per selection basis. As the favourite horse can change over time then we may end up betting multiple times if the favourite changes. In most situations this probably isn't an issue, as you can just limit betting to a timeframe e.g., from 60 seconds before the jump to 50 seconds before the jump. However, if the market is very illiquid there may not be any bets placed or cancelled in the time frame. So, let's come up with a way that our strategy can only bet once without using the timeframe as a work around.\n",
    "\n",
    "According to the [documentation](https://github.com/liampauling/flumine/blob/0737461323da409990d3108a158092487506aa7f/flumine/strategy/runnercontext.py) for Flumine we can get the runner_context, which will allow us to collect info on the trades, matched and waiting to be matched. If we loop through all the runners in the market, we can turn that into a DataFrame:\n",
    "\n",
    "\n",
    "```{python}\n",
    "runner_context = []\n",
    "for runner in market_book.runners:\n",
    "        runner_context = self.get_runner_context(\n",
    "                    market.market_id, runner.selection_id, runner.handicap\n",
    "                )\n",
    "        snapshot_runner_context.append([runner_context.selection_id, runner_context.executable_orders, runner_context.live_trade_count, runner_context.trade_count])\n",
    "snapshot_runner_context = pd.DataFrame(snapshot_runner_context, columns=['selection_id','executable_orders','live_trade_count','trade_count'])\n",
    "```\n",
    "\n",
    "This will return a DataFrame like this: \n",
    "\n",
    "![runner_context_df](hta_img/runner_context_df.png)\n",
    "\n",
    "Now we can simply just check if the sum last 3 columns equal zero, to validate that no bets have been placed:\n",
    "\n",
    "```\n",
    "snapshot_runner_context.iloc[:,1:].sum().sum()\n",
    "```"
   ]
  },
  {
   "cell_type": "markdown",
   "metadata": {},
   "source": [
    "Let's put this all together and pepper in some logging so we know what's happening:"
   ]
  },
  {
   "cell_type": "code",
   "execution_count": 2,
   "metadata": {},
   "outputs": [],
   "source": [
    "# Import necessary libraries\n",
    "from flumine import BaseStrategy \n",
    "from flumine.order.trade import Trade\n",
    "from flumine.order.order import LimitOrder, OrderStatus\n",
    "from flumine.markets.market import Market\n",
    "from betfairlightweight.filters import streaming_market_filter\n",
    "from betfairlightweight.resources import MarketBook\n",
    "import pandas as pd\n",
    "import numpy as np\n",
    "\n",
    "# Logging\n",
    "import logging\n",
    "logging.basicConfig(filename = 'how_to_automate_2.log', level=logging.INFO, format='%(asctime)s:%(levelname)s:%(lineno)d:%(message)s')\n",
    "\n",
    "class BackFavStrategy(BaseStrategy):\n",
    "\n",
    "    # Defines what happens when we start our strategy i.e. this method will run once when we first start running our strategy\n",
    "    def start(self) -> None:\n",
    "        print(\"starting strategy 'BackFavStrategy'\")\n",
    "\n",
    "    def check_market_book(self, market: Market, market_book: MarketBook) -> bool:\n",
    "        # process_market_book only executed if this returns True\n",
    "        if market_book.status != \"CLOSED\":\n",
    "            return True\n",
    "\n",
    "    def process_market_book(self, market: Market, market_book: MarketBook) -> None:\n",
    "        \n",
    "        # Collect data on last price traded and the number of bets we have placed\n",
    "        snapshot_last_price_traded = []\n",
    "        snapshot_runner_context = []\n",
    "        for runner in market_book.runners:\n",
    "                snapshot_last_price_traded.append([runner.selection_id,runner.last_price_traded])\n",
    "                # Get runner context for each runner\n",
    "                runner_context = self.get_runner_context(\n",
    "                    market.market_id, runner.selection_id, runner.handicap\n",
    "                )\n",
    "                snapshot_runner_context.append([runner_context.selection_id, runner_context.executable_orders, runner_context.live_trade_count, runner_context.trade_count])\n",
    "\n",
    "        # Convert last price traded data to dataframe\n",
    "        snapshot_last_price_traded = pd.DataFrame(snapshot_last_price_traded, columns=['selection_id','last_traded_price'])\n",
    "        # Find the selection_id of the favourite\n",
    "        snapshot_last_price_traded = snapshot_last_price_traded.sort_values(by = ['last_traded_price'])\n",
    "        fav_selection_id = snapshot_last_price_traded['selection_id'].iloc[0]\n",
    "        logging.info(snapshot_last_price_traded) # logging\n",
    "\n",
    "        # Convert data on number of bets we have placed to a dataframe\n",
    "        snapshot_runner_context = pd.DataFrame(snapshot_runner_context, columns=['selection_id','executable_orders','live_trade_count','trade_count'])\n",
    "        logging.info(snapshot_runner_context) # logging\n",
    "\n",
    "        for runner in market_book.runners:\n",
    "            if runner.status == \"ACTIVE\" and market.seconds_to_start < 60 and market_book.inplay == False and runner.selection_id == fav_selection_id and snapshot_runner_context.iloc[:,1:].sum().sum() == 0:\n",
    "                trade = Trade(\n",
    "                    market_id=market_book.market_id,\n",
    "                    selection_id=runner.selection_id,\n",
    "                    handicap=runner.handicap,\n",
    "                    strategy=self,\n",
    "                )\n",
    "                order = trade.create_order(\n",
    "                    side=\"BACK\", order_type=LimitOrder(price=runner.last_price_traded, size=5)\n",
    "                )\n",
    "                market.place_order(order)"
   ]
  },
  {
   "cell_type": "markdown",
   "metadata": {},
   "source": [
    "---"
   ]
  },
  {
   "cell_type": "markdown",
   "metadata": {},
   "source": [
    "## Running our strategy"
   ]
  },
  {
   "cell_type": "markdown",
   "metadata": {},
   "source": [
    "Now that we have our strategy ready, we can point it to a sport, and let it run. This time we will add some trading controls because we are likely to get matched. Let's specify that we are only comfortable with 1 bet at any time with a maximum exposure of $20"
   ]
  },
  {
   "cell_type": "code",
   "execution_count": 3,
   "metadata": {},
   "outputs": [],
   "source": [
    "strategy = BackFavStrategy(\n",
    "    market_filter=streaming_market_filter(\n",
    "        event_type_ids=[\"4339\"], # Greyhounds\n",
    "        country_codes=[\"AU\"], # Australian Markets\n",
    "        market_types=[\"WIN\"], # Win Markets\n",
    "    ),\n",
    "    max_trade_count=1, # max total number of trades per runner\n",
    "    max_live_trade_count=1, # max live (with executable orders) trades per runner\n",
    "    max_selection_exposure=20, # max exposure of 20 per horse\n",
    "    max_order_exposure= 20 # Max bet sizes of $20\n",
    ")"
   ]
  },
  {
   "cell_type": "markdown",
   "metadata": {},
   "source": [
    "Before we start running our strategy lets learn how the Flumine framework actually works. I basically glossed over this in Part I as its not entirely necessary to get something up and running, but in a more realistic sense its very useful and we now have a good strategy to test it on.\n",
    "\n",
    "When we log into using Flumine we define a `framework` which is a Flumine object:\n",
    "``` \n",
    "trading = betfairlightweight.APIClient('username','password',app_key='appkey')\n",
    "client = clients.BetfairClient(trading, interactive_login=True)\n",
    "framework = Flumine(client=client)\n",
    "```\n",
    "\n",
    "When we run our strategies, we are actually running `framework`. You can think of `framework` as a video game character with nothing equiped, when we add different strategies its like equipping a weapon like a sword or bow. We can also add other things to help us out such as `LiveLoggingControl` (which we will learn to create a bit futher down), and an autoterminate function so we don't need to manually turn it off each day, this is like adding buffs or armour that can help our character to progress.\n",
    "\n",
    "We need to define the thing that we are adding onto our `framework` and then Flumine will have specific functions that allow us to equip our strategies and helper functions. For example to add a strategy we just need to do `add_strategy()`, the list of Flumine functions that you can use to add things to `framework` are available [here](https://betcode-org.github.io/flumine/advanced/). Once we have our character ready with strategies and help code equiped we can do `framework.run()` and that will run your `framework` with all the strategies and all the supporting supporting code attached."
   ]
  },
  {
   "cell_type": "markdown",
   "metadata": {},
   "source": [
    "![framework_v2](hta_img/framework_v2.jpg)"
   ]
  },
  {
   "cell_type": "code",
   "execution_count": 4,
   "metadata": {},
   "outputs": [],
   "source": [
    "framework.add_strategy(strategy)"
   ]
  },
  {
   "cell_type": "markdown",
   "metadata": {},
   "source": [
    "### Automatic Terminate"
   ]
  },
  {
   "cell_type": "markdown",
   "metadata": {},
   "source": [
    "This code is a direct copy and paste from the [examples](https://github.com/betcode-org/flumine/blob/0f12a0f9d200b4a4c36c8bd26c9f4fbe82f8cce1/examples/workers/terminate.py) and works like a charm out of the box. It runs every 60 seconds and checks if all markets starting today have been closed for at least 20 minutes. If it has then it will stop our automation."
   ]
  },
  {
   "cell_type": "code",
   "execution_count": 5,
   "metadata": {},
   "outputs": [],
   "source": [
    "import logging\n",
    "import datetime\n",
    "from flumine.worker import BackgroundWorker\n",
    "from flumine.events.events import TerminationEvent\n",
    "\n",
    "logger = logging.getLogger(__name__)\n",
    "\n",
    "\"\"\"\n",
    "Worker can be used as followed:\n",
    "    framework.add_worker(\n",
    "        BackgroundWorker(\n",
    "            framework,\n",
    "            terminate,\n",
    "            func_kwargs={\"today_only\": True, \"seconds_closed\": 1200},\n",
    "            interval=60,\n",
    "            start_delay=60,\n",
    "        )\n",
    "    )\n",
    "This will run every 60s and will terminate \n",
    "the framework if all markets starting 'today' \n",
    "have been closed for at least 1200s\n",
    "\"\"\"\n",
    "\n",
    "\n",
    "# Function that stops automation running at the end of the day\n",
    "def terminate(\n",
    "    context: dict, flumine, today_only: bool = True, seconds_closed: int = 600\n",
    ") -> None:\n",
    "    \"\"\"terminate framework if no markets\n",
    "    live today.\n",
    "    \"\"\"\n",
    "    \n",
    "    # Creates a list of all markets \n",
    "    markets = list(flumine.markets.markets.values())\n",
    "\n",
    "    # from the above list, create a list of markets that are expected to start today\n",
    "    markets_today = [\n",
    "        m\n",
    "        for m in markets\n",
    "        if m.market_start_datetime.date() == datetime.datetime.utcnow().date()\n",
    "        and (\n",
    "            m.elapsed_seconds_closed is None\n",
    "            or (m.elapsed_seconds_closed and m.elapsed_seconds_closed < seconds_closed)\n",
    "        )\n",
    "    ]\n",
    "\n",
    "    # counts the markets that are expected to start today\n",
    "    if today_only:\n",
    "        market_count = len(markets_today)\n",
    "    else:\n",
    "        market_count = len(markets)\n",
    "    \n",
    "    # if the number of markets that are expected to start today then stop flumine \n",
    "    if market_count == 0:\n",
    "        logger.info(\"No more markets available, terminating framework\")\n",
    "        flumine.handler_queue.put(TerminationEvent(flumine))\n",
    "\n"
   ]
  },
  {
   "cell_type": "markdown",
   "metadata": {},
   "source": [
    "Now that we have created our terminate function we have to add it to our framework"
   ]
  },
  {
   "cell_type": "code",
   "execution_count": 6,
   "metadata": {},
   "outputs": [],
   "source": [
    "# Add the auto terminate to our framework\n",
    "framework.add_worker(\n",
    "    BackgroundWorker(\n",
    "        framework,\n",
    "        terminate,\n",
    "        func_kwargs={\"today_only\": True, \"seconds_closed\": 1200},\n",
    "        interval=60,\n",
    "        start_delay=60,\n",
    "    )\n",
    ")"
   ]
  },
  {
   "cell_type": "markdown",
   "metadata": {},
   "source": [
    "Let's also create something that records our bets in a nice csv/excel file so we can review how we went later on. Although this is also called logging it will create a clean csv file called \"orders_hta_2.csv\" that looks like this:\n",
    "\n",
    "![what_orderscsv_looks_like](hta_img/what_orderscsv_looks_like.png)\n",
    "\n",
    "\n",
    "This becomes super useful when we have more than one strategy so we can track how each strategy is performing (it also reads nicely into a pandas DataFrame!). This will also allow us to do some analysis such as check how often our bets get matched. This code is copied from the [examples](https://github.com/betcode-org/flumine/blob/0f12a0f9d200b4a4c36c8bd26c9f4fbe82f8cce1/examples/controls/backtestloggingcontrol.py) with some very slight changes."
   ]
  },
  {
   "cell_type": "code",
   "execution_count": 7,
   "metadata": {},
   "outputs": [],
   "source": [
    "import os\n",
    "import csv\n",
    "import logging\n",
    "from flumine.controls.loggingcontrols import LoggingControl\n",
    "from flumine.order.ordertype import OrderTypes\n",
    "\n",
    "logger = logging.getLogger(__name__)\n",
    "\n",
    "FIELDNAMES = [\n",
    "    \"bet_id\",\n",
    "    \"strategy_name\",\n",
    "    \"market_id\",\n",
    "    \"selection_id\",\n",
    "    \"trade_id\",\n",
    "    \"date_time_placed\",\n",
    "    \"price\",\n",
    "    \"price_matched\",\n",
    "    \"size\",\n",
    "    \"size_matched\",\n",
    "    \"profit\",\n",
    "    \"side\",\n",
    "    \"elapsed_seconds_executable\",\n",
    "    \"order_status\",\n",
    "    \"market_note\",\n",
    "    \"trade_notes\",\n",
    "    \"order_notes\",\n",
    "]\n",
    "\n",
    "\n",
    "class LiveLoggingControl(LoggingControl):\n",
    "    NAME = \"BACKTEST_LOGGING_CONTROL\"\n",
    "\n",
    "    def __init__(self, *args, **kwargs):\n",
    "        super(LiveLoggingControl, self).__init__(*args, **kwargs)\n",
    "        self._setup()\n",
    "\n",
    "    # checks if the file \"orders_hta_2.csv\" already exists, if it doens't then create it\n",
    "    def _setup(self):\n",
    "        if os.path.exists(\"orders_hta_2.csv\"):\n",
    "            logging.info(\"Results file exists\")\n",
    "        else:\n",
    "            with open(\"orders_hta_2.csv\", \"w\") as m:\n",
    "                # Create orders_hta_2.csv with the first row as the FIELDNAMES we specified above\n",
    "                csv_writer = csv.DictWriter(m, delimiter=\",\", fieldnames=FIELDNAMES)\n",
    "                csv_writer.writeheader()\n",
    "\n",
    "    def _process_cleared_orders_meta(self, event):\n",
    "        orders = event.event  # gives us a list of our orders for a market that has already settled\n",
    "        with open(\"orders_hta_2.csv\", \"a\") as m:  # open orders_hta_2.csv and append a new row of data (orders)\n",
    "            for order in orders:\n",
    "                if order.order_type.ORDER_TYPE == OrderTypes.LIMIT:\n",
    "                    size = order.order_type.size\n",
    "                else:\n",
    "                    size = order.order_type.liability\n",
    "                if order.order_type.ORDER_TYPE == OrderTypes.MARKET_ON_CLOSE:\n",
    "                    price = None\n",
    "                else:\n",
    "                    price = order.order_type.price\n",
    "                try:  # Create a dictionary of data we want to append to our csv file\n",
    "                    order_data = {\n",
    "                        \"bet_id\": order.bet_id,\n",
    "                        \"strategy_name\": order.trade.strategy,\n",
    "                        \"market_id\": order.market_id,\n",
    "                        \"selection_id\": order.selection_id,\n",
    "                        \"trade_id\": order.trade.id,\n",
    "                        \"date_time_placed\": order.responses.date_time_placed,\n",
    "                        \"price\": price,\n",
    "                        \"price_matched\": order.average_price_matched,\n",
    "                        \"size\": size,\n",
    "                        \"size_matched\": order.size_matched,\n",
    "                        \"profit\": 0 if not order.cleared_order else order.cleared_order.profit,\n",
    "                        \"side\": order.side,\n",
    "                        \"elapsed_seconds_executable\": order.elapsed_seconds_executable,\n",
    "                        \"order_status\": order.status.value,\n",
    "                        \"market_note\": order.trade.market_notes,\n",
    "                        \"trade_notes\": order.trade.notes_str,\n",
    "                        \"order_notes\": order.notes_str,\n",
    "                    }\n",
    "                    csv_writer = csv.DictWriter(m, delimiter=\",\", fieldnames=FIELDNAMES)  # maps our dictionary to output rows\n",
    "                    csv_writer.writerow(order_data)  # append data to csv files\n",
    "                except Exception as e:\n",
    "                    logger.error(\n",
    "                        \"_process_cleared_orders_meta: %s\" % e,\n",
    "                        extra={\"order\": order, \"error\": e},\n",
    "                    )\n",
    "\n",
    "        logger.info(\"Orders updated\", extra={\"order_count\": len(orders)})\n",
    "\n",
    "    def _process_cleared_markets(self, event):\n",
    "        cleared_markets = event.event\n",
    "        for cleared_market in cleared_markets.orders:\n",
    "            logger.info(\n",
    "                \"Cleared market\",\n",
    "                extra={\n",
    "                    \"market_id\": cleared_market.market_id,\n",
    "                    \"bet_count\": cleared_market.bet_count,\n",
    "                    \"profit\": cleared_market.profit,\n",
    "                    \"commission\": cleared_market.commission,\n",
    "                },\n",
    "            )\n",
    "\n"
   ]
  },
  {
   "cell_type": "markdown",
   "metadata": {},
   "source": [
    "Now let's add the bet logging to our framework and run everything at once:"
   ]
  },
  {
   "cell_type": "code",
   "execution_count": 8,
   "metadata": {},
   "outputs": [],
   "source": [
    "framework.add_logging_control(\n",
    "    LiveLoggingControl()\n",
    ")"
   ]
  },
  {
   "cell_type": "code",
   "execution_count": 9,
   "metadata": {},
   "outputs": [
    {
     "name": "stdout",
     "output_type": "stream",
     "text": [
      "starting strategy 'BackFavStrategy'\n"
     ]
    }
   ],
   "source": [
    "framework.run() "
   ]
  },
  {
   "cell_type": "markdown",
   "metadata": {},
   "source": [
    "There are some other things you can add such as workers that run automatically in the background at set times (e.g. every 10 seconds) and are independent of market updates. There is some [documentation available](https://betcode-org.github.io/flumine/workers/) but to be honest I've never had to use them. If you are doing something that is a bit more intense or needs to be run at set time intervals then they are probably useful so take a look."
   ]
  },
  {
   "cell_type": "markdown",
   "metadata": {},
   "source": [
    "---"
   ]
  },
  {
   "cell_type": "markdown",
   "metadata": {},
   "source": [
    "## Conclusion and next steps"
   ]
  },
  {
   "cell_type": "markdown",
   "metadata": {},
   "source": [
    "We have so far done zero backtesting on this strategy, and blindly following strategies from published papers that are over 20 years old is a sure fire way to lose money. But hopefully this gives you an idea of the things you can accomplish with Flumine. If you are keen on backtesting your own betting angles, I would suggest taking a look at our tutorial which goes into depth on how to backtest [Automated Betting Angles in Python](https://betfair-datascientists.github.io/historicData/automatedBettingAnglesTutorial/) using historical data.\n",
    "\n",
    "Now that we have a better understanding of Flumine we are getting very close to automating our own model. We still have three parts remaining in this series which will take you step by step through:\n",
    "\n",
    "- [Part III](../How_to_Automate_3) - Automating a Betfair model\n",
    "- [Part IV](../How_to_Automate_4) - Automating your own model\n",
    "- [Part V](../How_to_Automate_5) - How to simulate the Exchange to backtest and optimise our strategies"
   ]
  },
  {
   "cell_type": "markdown",
   "metadata": {},
   "source": [
    "### Complete code"
   ]
  },
  {
   "cell_type": "markdown",
   "metadata": {},
   "source": [
    "Run the code from your ide by using py `<filename>`.py, making sure you amend the path to point to your input data.\n",
    "\n",
    "[Download from Github](https://github.com/betfair-down-under/autoHubTutorials/tree/master)"
   ]
  },
  {
   "cell_type": "code",
   "execution_count": null,
   "metadata": {},
   "outputs": [],
   "source": [
    "# Import libraries for logging in\n",
    "import betfairlightweight\n",
    "from flumine import Flumine, clients\n",
    "from flumine import BaseStrategy \n",
    "from flumine.order.trade import Trade\n",
    "from flumine.order.order import LimitOrder, OrderStatus\n",
    "from flumine.markets.market import Market\n",
    "from betfairlightweight.filters import streaming_market_filter\n",
    "from betfairlightweight.resources import MarketBook\n",
    "import pandas as pd\n",
    "import numpy as np\n",
    "import logging\n",
    "import datetime\n",
    "from flumine.worker import BackgroundWorker\n",
    "from flumine.events.events import TerminationEvent\n",
    "import os\n",
    "import csv\n",
    "import logging\n",
    "from flumine.controls.loggingcontrols import LoggingControl\n",
    "from flumine.order.ordertype import OrderTypes\n",
    "\n",
    "logging.basicConfig(filename = 'how_to_automate_2.log', level=logging.INFO, format='%(asctime)s:%(levelname)s:%(lineno)d:%(message)s')\n",
    "\n",
    "# Import libraries for logging in\n",
    "import betfairlightweight\n",
    "from flumine import Flumine, clients\n",
    "\n",
    "# Credentials to login and logging in \n",
    "trading = betfairlightweight.APIClient('username','password',app_key='appkey')\n",
    "client = clients.BetfairClient(trading, interactive_login=True)\n",
    "\n",
    "# Login\n",
    "framework = Flumine(client=client)\n",
    "\n",
    "# Code to login when using security certificates\n",
    "# trading = betfairlightweight.APIClient('username','password',app_key='appkey', certs=r'C:\\Users\\zhoui\\openssl_certs')\n",
    "# client = clients.BetfairClient(trading)\n",
    "\n",
    "# framework = Flumine(client=client)\n",
    "\n",
    "class BackFavStrategy(BaseStrategy):\n",
    "\n",
    "    # Defines what happens when we start our strategy i.e. this method will run once when we first start running our strategy\n",
    "    def start(self) -> None:\n",
    "        print(\"starting strategy 'BackFavStrategy'\")\n",
    "\n",
    "    def check_market_book(self, market: Market, market_book: MarketBook) -> bool:\n",
    "        # process_market_book only executed if this returns True\n",
    "        if market_book.status != \"CLOSED\":\n",
    "            return True\n",
    "\n",
    "    def process_market_book(self, market: Market, market_book: MarketBook) -> None:\n",
    "        \n",
    "        # Collect data on last price traded and the number of bets we have placed\n",
    "        snapshot_last_price_traded = []\n",
    "        snapshot_runner_context = []\n",
    "        for runner in market_book.runners:\n",
    "                snapshot_last_price_traded.append([runner.selection_id,runner.last_price_traded])\n",
    "                # Get runner context for each runner\n",
    "                runner_context = self.get_runner_context(\n",
    "                    market.market_id, runner.selection_id, runner.handicap\n",
    "                )\n",
    "                snapshot_runner_context.append([runner_context.selection_id, runner_context.executable_orders, runner_context.live_trade_count, runner_context.trade_count])\n",
    "\n",
    "        # Convert last price traded data to dataframe\n",
    "        snapshot_last_price_traded = pd.DataFrame(snapshot_last_price_traded, columns=['selection_id','last_traded_price'])\n",
    "        # Find the selection_id of the favourite\n",
    "        snapshot_last_price_traded = snapshot_last_price_traded.sort_values(by = ['last_traded_price'])\n",
    "        fav_selection_id = snapshot_last_price_traded['selection_id'].iloc[0]\n",
    "        logging.info(snapshot_last_price_traded) # logging\n",
    "\n",
    "        # Convert data on number of bets we have placed to a dataframe\n",
    "        snapshot_runner_context = pd.DataFrame(snapshot_runner_context, columns=['selection_id','executable_orders','live_trade_count','trade_count'])\n",
    "        logging.info(snapshot_runner_context) # logging\n",
    "\n",
    "        for runner in market_book.runners:\n",
    "            if runner.status == \"ACTIVE\" and market.seconds_to_start < 60 and market_book.inplay == False and runner.selection_id == fav_selection_id and snapshot_runner_context.iloc[:,1:].sum().sum() == 0:\n",
    "                trade = Trade(\n",
    "                    market_id=market_book.market_id,\n",
    "                    selection_id=runner.selection_id,\n",
    "                    handicap=runner.handicap,\n",
    "                    strategy=self,\n",
    "                )\n",
    "                order = trade.create_order(\n",
    "                    side=\"BACK\", order_type=LimitOrder(price=runner.last_price_traded, size=5)\n",
    "                )\n",
    "                market.place_order(order)\n",
    "\n",
    "logger = logging.getLogger(__name__)\n",
    "\n",
    "\"\"\"\n",
    "Worker can be used as followed:\n",
    "    framework.add_worker(\n",
    "        BackgroundWorker(\n",
    "            framework,\n",
    "            terminate,\n",
    "            func_kwargs={\"today_only\": True, \"seconds_closed\": 1200},\n",
    "            interval=60,\n",
    "            start_delay=60,\n",
    "        )\n",
    "    )\n",
    "This will run every 60s and will terminate \n",
    "the framework if all markets starting 'today' \n",
    "have been closed for at least 1200s\n",
    "\"\"\"\n",
    "\n",
    "# Function that stops automation running at the end of the day\n",
    "def terminate(\n",
    "    context: dict, flumine, today_only: bool = True, seconds_closed: int = 600\n",
    ") -> None:\n",
    "    \"\"\"terminate framework if no markets\n",
    "    live today.\n",
    "    \"\"\"\n",
    "    markets = list(flumine.markets.markets.values())\n",
    "    markets_today = [\n",
    "        m\n",
    "        for m in markets\n",
    "        if m.market_start_datetime.date() == datetime.datetime.utcnow().date()\n",
    "        and (\n",
    "            m.elapsed_seconds_closed is None\n",
    "            or (m.elapsed_seconds_closed and m.elapsed_seconds_closed < seconds_closed)\n",
    "        )\n",
    "    ]\n",
    "    if today_only:\n",
    "        market_count = len(markets_today)\n",
    "    else:\n",
    "        market_count = len(markets)\n",
    "    if market_count == 0:\n",
    "        logger.info(\"No more markets available, terminating framework\")\n",
    "        flumine.handler_queue.put(TerminationEvent(flumine))\n",
    "\n",
    "FIELDNAMES = [\n",
    "    \"bet_id\",\n",
    "    \"strategy_name\",\n",
    "    \"market_id\",\n",
    "    \"selection_id\",\n",
    "    \"trade_id\",\n",
    "    \"date_time_placed\",\n",
    "    \"price\",\n",
    "    \"price_matched\",\n",
    "    \"size\",\n",
    "    \"size_matched\",\n",
    "    \"profit\",\n",
    "    \"side\",\n",
    "    \"elapsed_seconds_executable\",\n",
    "    \"order_status\",\n",
    "    \"market_note\",\n",
    "    \"trade_notes\",\n",
    "    \"order_notes\",\n",
    "]\n",
    "\n",
    "class LiveLoggingControl(LoggingControl):\n",
    "    NAME = \"BACKTEST_LOGGING_CONTROL\"\n",
    "\n",
    "    def __init__(self, *args, **kwargs):\n",
    "        super(LiveLoggingControl, self).__init__(*args, **kwargs)\n",
    "        self._setup()\n",
    "\n",
    "    # Changed file path and checks if the file orders_hta_2.csv already exists, if it doens't then create it\n",
    "    def _setup(self):\n",
    "        if os.path.exists(\"orders_hta_2.csv\"):\n",
    "            logging.info(\"Results file exists\")\n",
    "        else:\n",
    "            with open(\"orders_hta_2.csv\", \"w\") as m:\n",
    "                csv_writer = csv.DictWriter(m, delimiter=\",\", fieldnames=FIELDNAMES)\n",
    "                csv_writer.writeheader()\n",
    "\n",
    "    def _process_cleared_orders_meta(self, event):\n",
    "        orders = event.event\n",
    "        with open(\"orders_hta_2.csv\", \"a\") as m:\n",
    "            for order in orders:\n",
    "                if order.order_type.ORDER_TYPE == OrderTypes.LIMIT:\n",
    "                    size = order.order_type.size\n",
    "                else:\n",
    "                    size = order.order_type.liability\n",
    "                if order.order_type.ORDER_TYPE == OrderTypes.MARKET_ON_CLOSE:\n",
    "                    price = None\n",
    "                else:\n",
    "                    price = order.order_type.price\n",
    "                try:\n",
    "                    order_data = {\n",
    "                        \"bet_id\": order.bet_id,\n",
    "                        \"strategy_name\": order.trade.strategy,\n",
    "                        \"market_id\": order.market_id,\n",
    "                        \"selection_id\": order.selection_id,\n",
    "                        \"trade_id\": order.trade.id,\n",
    "                        \"date_time_placed\": order.responses.date_time_placed,\n",
    "                        \"price\": price,\n",
    "                        \"price_matched\": order.average_price_matched,\n",
    "                        \"size\": size,\n",
    "                        \"size_matched\": order.size_matched,\n",
    "                        \"profit\": 0 if not order.cleared_order else order.cleared_order.profit,\n",
    "                        \"side\": order.side,\n",
    "                        \"elapsed_seconds_executable\": order.elapsed_seconds_executable,\n",
    "                        \"order_status\": order.status.value,\n",
    "                        \"market_note\": order.trade.market_notes,\n",
    "                        \"trade_notes\": order.trade.notes_str,\n",
    "                        \"order_notes\": order.notes_str,\n",
    "                    }\n",
    "                    csv_writer = csv.DictWriter(m, delimiter=\",\", fieldnames=FIELDNAMES)\n",
    "                    csv_writer.writerow(order_data)\n",
    "                except Exception as e:\n",
    "                    logger.error(\n",
    "                        \"_process_cleared_orders_meta: %s\" % e,\n",
    "                        extra={\"order\": order, \"error\": e},\n",
    "                    )\n",
    "\n",
    "        logger.info(\"Orders updated\", extra={\"order_count\": len(orders)})\n",
    "\n",
    "    def _process_cleared_markets(self, event):\n",
    "        cleared_markets = event.event\n",
    "        for cleared_market in cleared_markets.orders:\n",
    "            logger.info(\n",
    "                \"Cleared market\",\n",
    "                extra={\n",
    "                    \"market_id\": cleared_market.market_id,\n",
    "                    \"bet_count\": cleared_market.bet_count,\n",
    "                    \"profit\": cleared_market.profit,\n",
    "                    \"commission\": cleared_market.commission,\n",
    "                },\n",
    "            )\n",
    "\n",
    "strategy = BackFavStrategy(\n",
    "    market_filter=streaming_market_filter(\n",
    "        event_type_ids=[\"4339\"], # Greyhounds\n",
    "        country_codes=[\"AU\"], # Australian Markets\n",
    "        market_types=[\"WIN\"], # Win Markets\n",
    "    ),\n",
    "    max_trade_count=1, # max total number of trades per runner\n",
    "    max_live_trade_count=1, # max live (with executable orders) trades per runner\n",
    "    max_selection_exposure=20, # max exposure of 20 per horse\n",
    "    max_order_exposure= 20 # Max bet sizes of $20\n",
    ")\n",
    "\n",
    "framework.add_strategy(strategy)\n",
    "\n",
    "# Add the auto terminate to our framework\n",
    "framework.add_worker(\n",
    "    BackgroundWorker(\n",
    "        framework,\n",
    "        terminate,\n",
    "        func_kwargs={\"today_only\": True, \"seconds_closed\": 1200},\n",
    "        interval=60,\n",
    "        start_delay=60,\n",
    "    )\n",
    ")\n",
    "\n",
    "framework.add_logging_control(\n",
    "    LiveLoggingControl()\n",
    ")\n",
    "\n",
    "framework.run() # run our framework"
   ]
  },
  {
   "cell_type": "markdown",
   "metadata": {},
   "source": [
    "---"
   ]
  },
  {
   "cell_type": "markdown",
   "metadata": {},
   "source": [
    "## Disclaimer"
   ]
  },
  {
   "cell_type": "markdown",
   "metadata": {},
   "source": [
    "Note that whilst models and automated strategies are fun and rewarding to create, we can't promise that your model or betting strategy will be profitable, and we make no representations in relation to the code shared or information on this page. If you're using this code or implementing your own strategies, you do so entirely at your own risk and you are responsible for any winnings/losses incurred. Under no circumstances will Betfair be liable for any loss or damage you suffer."
   ]
  }
 ],
 "metadata": {
  "kernelspec": {
   "display_name": "Python 3.9.2 64-bit",
   "language": "python",
   "name": "python3"
  },
  "language_info": {
   "codemirror_mode": {
    "name": "ipython",
    "version": 3
   },
   "file_extension": ".py",
   "mimetype": "text/x-python",
   "name": "python",
   "nbconvert_exporter": "python",
   "pygments_lexer": "ipython3",
   "version": "3.9.2"
  },
  "orig_nbformat": 4,
  "vscode": {
   "interpreter": {
    "hash": "949777d72b0d2535278d3dc13498b2535136f6dfe0678499012e853ee9abcab1"
   }
  }
 },
 "nbformat": 4,
 "nbformat_minor": 2
}
